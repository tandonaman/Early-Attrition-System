{
 "cells": [
  {
   "cell_type": "code",
   "execution_count": 514,
   "metadata": {},
   "outputs": [],
   "source": [
    "import pandas as pd\n",
    "import numpy as np\n",
    "import matplotlib.pyplot as plt\n",
    "from sklearn.model_selection import train_test_split\n",
    "from sklearn.metrics import confusion_matrix\n",
    "from sklearn import datasets\n",
    "from sklearn.metrics import accuracy_score"
   ]
  },
  {
   "cell_type": "code",
   "execution_count": 515,
   "metadata": {},
   "outputs": [],
   "source": [
    "attrdata=pd.read_excel(r\"C:\\Users\\KIIT\\Downloads\\Table 1 data.xlsx\")"
   ]
  },
  {
   "cell_type": "code",
   "execution_count": 516,
   "metadata": {},
   "outputs": [
    {
     "data": {
      "text/html": [
       "<div>\n",
       "<style scoped>\n",
       "    .dataframe tbody tr th:only-of-type {\n",
       "        vertical-align: middle;\n",
       "    }\n",
       "\n",
       "    .dataframe tbody tr th {\n",
       "        vertical-align: top;\n",
       "    }\n",
       "\n",
       "    .dataframe thead th {\n",
       "        text-align: right;\n",
       "    }\n",
       "</style>\n",
       "<table border=\"1\" class=\"dataframe\">\n",
       "  <thead>\n",
       "    <tr style=\"text-align: right;\">\n",
       "      <th></th>\n",
       "      <th>Unnamed: 0</th>\n",
       "      <th>Table 1</th>\n",
       "      <th>Unnamed: 2</th>\n",
       "      <th>Unnamed: 3</th>\n",
       "      <th>Unnamed: 4</th>\n",
       "      <th>Unnamed: 5</th>\n",
       "      <th>Unnamed: 6</th>\n",
       "      <th>Unnamed: 7</th>\n",
       "      <th>Unnamed: 8</th>\n",
       "      <th>Unnamed: 9</th>\n",
       "      <th>Unnamed: 10</th>\n",
       "      <th>Unnamed: 11</th>\n",
       "      <th>Unnamed: 12</th>\n",
       "      <th>Unnamed: 13</th>\n",
       "      <th>Unnamed: 14</th>\n",
       "      <th>Unnamed: 15</th>\n",
       "      <th>Unnamed: 16</th>\n",
       "      <th>Unnamed: 17</th>\n",
       "    </tr>\n",
       "  </thead>\n",
       "  <tbody>\n",
       "    <tr>\n",
       "      <th>0</th>\n",
       "      <td>Location</td>\n",
       "      <td>Emp. Group</td>\n",
       "      <td>Function</td>\n",
       "      <td>Gender</td>\n",
       "      <td>Tenure</td>\n",
       "      <td>Tenure Grp.</td>\n",
       "      <td>Experience (YY.MM)</td>\n",
       "      <td>Marital Status</td>\n",
       "      <td>Age in YY.</td>\n",
       "      <td>Hiring Source</td>\n",
       "      <td>Promoted/Non Promoted</td>\n",
       "      <td>Job Role Match</td>\n",
       "      <td>Stay/Left</td>\n",
       "      <td>Commuting Problems</td>\n",
       "      <td>Tools provided for the job</td>\n",
       "      <td>Job Security</td>\n",
       "      <td>Company Benefits</td>\n",
       "      <td>Career Development</td>\n",
       "    </tr>\n",
       "    <tr>\n",
       "      <th>1</th>\n",
       "      <td>Pune</td>\n",
       "      <td>B2</td>\n",
       "      <td>Operation</td>\n",
       "      <td>Male</td>\n",
       "      <td>0</td>\n",
       "      <td>&lt; =1</td>\n",
       "      <td>6.08</td>\n",
       "      <td>Single</td>\n",
       "      <td>27.12</td>\n",
       "      <td>Direct</td>\n",
       "      <td>Non Promoted</td>\n",
       "      <td>Yes</td>\n",
       "      <td>Left</td>\n",
       "      <td>5</td>\n",
       "      <td>7</td>\n",
       "      <td>5</td>\n",
       "      <td>4</td>\n",
       "      <td>9</td>\n",
       "    </tr>\n",
       "    <tr>\n",
       "      <th>2</th>\n",
       "      <td>Noida</td>\n",
       "      <td>B7</td>\n",
       "      <td>Support</td>\n",
       "      <td>Male</td>\n",
       "      <td>0</td>\n",
       "      <td>&lt; =1</td>\n",
       "      <td>13</td>\n",
       "      <td>Marr.</td>\n",
       "      <td>38.08</td>\n",
       "      <td>Direct</td>\n",
       "      <td>Promoted</td>\n",
       "      <td>No</td>\n",
       "      <td>Stay</td>\n",
       "      <td>8</td>\n",
       "      <td>3</td>\n",
       "      <td>4</td>\n",
       "      <td>6</td>\n",
       "      <td>7</td>\n",
       "    </tr>\n",
       "    <tr>\n",
       "      <th>3</th>\n",
       "      <td>Bangalore</td>\n",
       "      <td>B3</td>\n",
       "      <td>Operation</td>\n",
       "      <td>Male</td>\n",
       "      <td>0.01</td>\n",
       "      <td>&lt; =1</td>\n",
       "      <td>16.05</td>\n",
       "      <td>Marr.</td>\n",
       "      <td>36.04</td>\n",
       "      <td>Direct</td>\n",
       "      <td>Promoted</td>\n",
       "      <td>Yes</td>\n",
       "      <td>Stay</td>\n",
       "      <td>7</td>\n",
       "      <td>8</td>\n",
       "      <td>7</td>\n",
       "      <td>4</td>\n",
       "      <td>6</td>\n",
       "    </tr>\n",
       "    <tr>\n",
       "      <th>4</th>\n",
       "      <td>Noida</td>\n",
       "      <td>B2</td>\n",
       "      <td>Operation</td>\n",
       "      <td>Male</td>\n",
       "      <td>0.01</td>\n",
       "      <td>&lt; =1</td>\n",
       "      <td>6.06</td>\n",
       "      <td>Marr.</td>\n",
       "      <td>32.07</td>\n",
       "      <td>Direct</td>\n",
       "      <td>Promoted</td>\n",
       "      <td>Yes</td>\n",
       "      <td>Stay</td>\n",
       "      <td>4</td>\n",
       "      <td>6</td>\n",
       "      <td>7</td>\n",
       "      <td>9</td>\n",
       "      <td>5</td>\n",
       "    </tr>\n",
       "  </tbody>\n",
       "</table>\n",
       "</div>"
      ],
      "text/plain": [
       "  Unnamed: 0     Table 1 Unnamed: 2 Unnamed: 3 Unnamed: 4   Unnamed: 5  \\\n",
       "0   Location  Emp. Group   Function    Gender      Tenure  Tenure Grp.   \n",
       "1       Pune          B2  Operation       Male          0         < =1   \n",
       "2      Noida          B7    Support       Male          0         < =1   \n",
       "3  Bangalore          B3  Operation       Male       0.01         < =1   \n",
       "4      Noida          B2  Operation       Male       0.01         < =1   \n",
       "\n",
       "           Unnamed: 6      Unnamed: 7  Unnamed: 8     Unnamed: 9  \\\n",
       "0  Experience (YY.MM)  Marital Status  Age in YY.  Hiring Source   \n",
       "1                6.08          Single       27.12         Direct   \n",
       "2                  13           Marr.       38.08         Direct   \n",
       "3               16.05           Marr.       36.04         Direct   \n",
       "4                6.06           Marr.       32.07         Direct   \n",
       "\n",
       "             Unnamed: 10     Unnamed: 11 Unnamed: 12         Unnamed: 13  \\\n",
       "0  Promoted/Non Promoted  Job Role Match   Stay/Left  Commuting Problems   \n",
       "1           Non Promoted             Yes        Left                   5   \n",
       "2               Promoted              No        Stay                   8   \n",
       "3               Promoted             Yes        Stay                   7   \n",
       "4               Promoted             Yes        Stay                   4   \n",
       "\n",
       "                  Unnamed: 14   Unnamed: 15       Unnamed: 16  \\\n",
       "0  Tools provided for the job  Job Security  Company Benefits   \n",
       "1                           7             5                 4   \n",
       "2                           3             4                 6   \n",
       "3                           8             7                 4   \n",
       "4                           6             7                 9   \n",
       "\n",
       "          Unnamed: 17  \n",
       "0  Career Development  \n",
       "1                   9  \n",
       "2                   7  \n",
       "3                   6  \n",
       "4                   5  "
      ]
     },
     "execution_count": 516,
     "metadata": {},
     "output_type": "execute_result"
    }
   ],
   "source": [
    "attrdata.head()"
   ]
  },
  {
   "cell_type": "code",
   "execution_count": 517,
   "metadata": {},
   "outputs": [],
   "source": [
    "attrdata.columns=attrdata.loc[0]"
   ]
  },
  {
   "cell_type": "code",
   "execution_count": 518,
   "metadata": {},
   "outputs": [
    {
     "data": {
      "text/plain": [
       "Index(['Location', 'Emp. Group', 'Function', 'Gender ', 'Tenure',\n",
       "       'Tenure Grp.', 'Experience (YY.MM)', 'Marital Status', 'Age in YY.',\n",
       "       'Hiring Source', 'Promoted/Non Promoted', 'Job Role Match', 'Stay/Left',\n",
       "       'Commuting Problems', 'Tools provided for the job', 'Job Security',\n",
       "       'Company Benefits', 'Career Development'],\n",
       "      dtype='object', name=0)"
      ]
     },
     "execution_count": 518,
     "metadata": {},
     "output_type": "execute_result"
    }
   ],
   "source": [
    "attrdata.columns"
   ]
  },
  {
   "cell_type": "code",
   "execution_count": 519,
   "metadata": {},
   "outputs": [
    {
     "data": {
      "text/html": [
       "<div>\n",
       "<style scoped>\n",
       "    .dataframe tbody tr th:only-of-type {\n",
       "        vertical-align: middle;\n",
       "    }\n",
       "\n",
       "    .dataframe tbody tr th {\n",
       "        vertical-align: top;\n",
       "    }\n",
       "\n",
       "    .dataframe thead th {\n",
       "        text-align: right;\n",
       "    }\n",
       "</style>\n",
       "<table border=\"1\" class=\"dataframe\">\n",
       "  <thead>\n",
       "    <tr style=\"text-align: right;\">\n",
       "      <th></th>\n",
       "      <th>Location</th>\n",
       "      <th>Emp. Group</th>\n",
       "      <th>Function</th>\n",
       "      <th>Gender</th>\n",
       "      <th>Tenure</th>\n",
       "      <th>Tenure Grp.</th>\n",
       "      <th>Experience (YY.MM)</th>\n",
       "      <th>Marital Status</th>\n",
       "      <th>Age in YY.</th>\n",
       "      <th>Hiring Source</th>\n",
       "      <th>Promoted/Non Promoted</th>\n",
       "      <th>Job Role Match</th>\n",
       "      <th>Stay/Left</th>\n",
       "      <th>Commuting Problems</th>\n",
       "      <th>Tools provided for the job</th>\n",
       "      <th>Job Security</th>\n",
       "      <th>Company Benefits</th>\n",
       "      <th>Career Development</th>\n",
       "    </tr>\n",
       "  </thead>\n",
       "  <tbody>\n",
       "    <tr>\n",
       "      <th>0</th>\n",
       "      <td>Location</td>\n",
       "      <td>Emp. Group</td>\n",
       "      <td>Function</td>\n",
       "      <td>Gender</td>\n",
       "      <td>Tenure</td>\n",
       "      <td>Tenure Grp.</td>\n",
       "      <td>Experience (YY.MM)</td>\n",
       "      <td>Marital Status</td>\n",
       "      <td>Age in YY.</td>\n",
       "      <td>Hiring Source</td>\n",
       "      <td>Promoted/Non Promoted</td>\n",
       "      <td>Job Role Match</td>\n",
       "      <td>Stay/Left</td>\n",
       "      <td>Commuting Problems</td>\n",
       "      <td>Tools provided for the job</td>\n",
       "      <td>Job Security</td>\n",
       "      <td>Company Benefits</td>\n",
       "      <td>Career Development</td>\n",
       "    </tr>\n",
       "    <tr>\n",
       "      <th>1</th>\n",
       "      <td>Pune</td>\n",
       "      <td>B2</td>\n",
       "      <td>Operation</td>\n",
       "      <td>Male</td>\n",
       "      <td>0</td>\n",
       "      <td>&lt; =1</td>\n",
       "      <td>6.08</td>\n",
       "      <td>Single</td>\n",
       "      <td>27.12</td>\n",
       "      <td>Direct</td>\n",
       "      <td>Non Promoted</td>\n",
       "      <td>Yes</td>\n",
       "      <td>Left</td>\n",
       "      <td>5</td>\n",
       "      <td>7</td>\n",
       "      <td>5</td>\n",
       "      <td>4</td>\n",
       "      <td>9</td>\n",
       "    </tr>\n",
       "    <tr>\n",
       "      <th>2</th>\n",
       "      <td>Noida</td>\n",
       "      <td>B7</td>\n",
       "      <td>Support</td>\n",
       "      <td>Male</td>\n",
       "      <td>0</td>\n",
       "      <td>&lt; =1</td>\n",
       "      <td>13</td>\n",
       "      <td>Marr.</td>\n",
       "      <td>38.08</td>\n",
       "      <td>Direct</td>\n",
       "      <td>Promoted</td>\n",
       "      <td>No</td>\n",
       "      <td>Stay</td>\n",
       "      <td>8</td>\n",
       "      <td>3</td>\n",
       "      <td>4</td>\n",
       "      <td>6</td>\n",
       "      <td>7</td>\n",
       "    </tr>\n",
       "    <tr>\n",
       "      <th>3</th>\n",
       "      <td>Bangalore</td>\n",
       "      <td>B3</td>\n",
       "      <td>Operation</td>\n",
       "      <td>Male</td>\n",
       "      <td>0.01</td>\n",
       "      <td>&lt; =1</td>\n",
       "      <td>16.05</td>\n",
       "      <td>Marr.</td>\n",
       "      <td>36.04</td>\n",
       "      <td>Direct</td>\n",
       "      <td>Promoted</td>\n",
       "      <td>Yes</td>\n",
       "      <td>Stay</td>\n",
       "      <td>7</td>\n",
       "      <td>8</td>\n",
       "      <td>7</td>\n",
       "      <td>4</td>\n",
       "      <td>6</td>\n",
       "    </tr>\n",
       "    <tr>\n",
       "      <th>4</th>\n",
       "      <td>Noida</td>\n",
       "      <td>B2</td>\n",
       "      <td>Operation</td>\n",
       "      <td>Male</td>\n",
       "      <td>0.01</td>\n",
       "      <td>&lt; =1</td>\n",
       "      <td>6.06</td>\n",
       "      <td>Marr.</td>\n",
       "      <td>32.07</td>\n",
       "      <td>Direct</td>\n",
       "      <td>Promoted</td>\n",
       "      <td>Yes</td>\n",
       "      <td>Stay</td>\n",
       "      <td>4</td>\n",
       "      <td>6</td>\n",
       "      <td>7</td>\n",
       "      <td>9</td>\n",
       "      <td>5</td>\n",
       "    </tr>\n",
       "  </tbody>\n",
       "</table>\n",
       "</div>"
      ],
      "text/plain": [
       "0   Location  Emp. Group   Function  Gender   Tenure  Tenure Grp.  \\\n",
       "0   Location  Emp. Group   Function  Gender   Tenure  Tenure Grp.   \n",
       "1       Pune          B2  Operation     Male       0         < =1   \n",
       "2      Noida          B7    Support     Male       0         < =1   \n",
       "3  Bangalore          B3  Operation     Male    0.01         < =1   \n",
       "4      Noida          B2  Operation     Male    0.01         < =1   \n",
       "\n",
       "0  Experience (YY.MM)  Marital Status  Age in YY.  Hiring Source  \\\n",
       "0  Experience (YY.MM)  Marital Status  Age in YY.  Hiring Source   \n",
       "1                6.08          Single       27.12         Direct   \n",
       "2                  13           Marr.       38.08         Direct   \n",
       "3               16.05           Marr.       36.04         Direct   \n",
       "4                6.06           Marr.       32.07         Direct   \n",
       "\n",
       "0  Promoted/Non Promoted  Job Role Match  Stay/Left  Commuting Problems  \\\n",
       "0  Promoted/Non Promoted  Job Role Match  Stay/Left  Commuting Problems   \n",
       "1           Non Promoted             Yes       Left                   5   \n",
       "2               Promoted              No       Stay                   8   \n",
       "3               Promoted             Yes       Stay                   7   \n",
       "4               Promoted             Yes       Stay                   4   \n",
       "\n",
       "0  Tools provided for the job  Job Security  Company Benefits  \\\n",
       "0  Tools provided for the job  Job Security  Company Benefits   \n",
       "1                           7             5                 4   \n",
       "2                           3             4                 6   \n",
       "3                           8             7                 4   \n",
       "4                           6             7                 9   \n",
       "\n",
       "0  Career Development  \n",
       "0  Career Development  \n",
       "1                   9  \n",
       "2                   7  \n",
       "3                   6  \n",
       "4                   5  "
      ]
     },
     "execution_count": 519,
     "metadata": {},
     "output_type": "execute_result"
    }
   ],
   "source": [
    "attrdata.head()"
   ]
  },
  {
   "cell_type": "code",
   "execution_count": 520,
   "metadata": {},
   "outputs": [],
   "source": [
    "attrdata.drop(0,inplace=True)"
   ]
  },
  {
   "cell_type": "code",
   "execution_count": 521,
   "metadata": {},
   "outputs": [
    {
     "data": {
      "text/plain": [
       "0\n",
       "Location                      1\n",
       "Emp. Group                    0\n",
       "Function                      0\n",
       "Gender                        0\n",
       "Tenure                        0\n",
       "Tenure Grp.                   0\n",
       "Experience (YY.MM)            4\n",
       "Marital Status                0\n",
       "Age in YY.                    0\n",
       "Hiring Source                 0\n",
       "Promoted/Non Promoted         0\n",
       "Job Role Match                2\n",
       "Stay/Left                     1\n",
       "Commuting Problems            0\n",
       "Tools provided for the job    0\n",
       "Job Security                  0\n",
       "Company Benefits              0\n",
       "Career Development            0\n",
       "dtype: int64"
      ]
     },
     "execution_count": 521,
     "metadata": {},
     "output_type": "execute_result"
    }
   ],
   "source": [
    "attrdata.isnull().sum()"
   ]
  },
  {
   "cell_type": "code",
   "execution_count": 522,
   "metadata": {},
   "outputs": [],
   "source": [
    "attrdata.dropna(axis=0,inplace=True)"
   ]
  },
  {
   "cell_type": "code",
   "execution_count": 523,
   "metadata": {},
   "outputs": [],
   "source": [
    "gen=pd.get_dummies(attrdata[\"Function\"])"
   ]
  },
  {
   "cell_type": "code",
   "execution_count": 524,
   "metadata": {},
   "outputs": [],
   "source": [
    "hr=pd.get_dummies(attrdata[\"Hiring Source\"])"
   ]
  },
  {
   "cell_type": "code",
   "execution_count": 525,
   "metadata": {},
   "outputs": [],
   "source": [
    "Ms=pd.get_dummies(attrdata[\"Marital Status\"])"
   ]
  },
  {
   "cell_type": "code",
   "execution_count": 526,
   "metadata": {},
   "outputs": [],
   "source": [
    "pr=pd.get_dummies(attrdata[\"Promoted/Non Promoted\"])"
   ]
  },
  {
   "cell_type": "code",
   "execution_count": 527,
   "metadata": {},
   "outputs": [],
   "source": [
    "emp=pd.get_dummies(attrdata[\"Emp. Group\"])"
   ]
  },
  {
   "cell_type": "code",
   "execution_count": 528,
   "metadata": {},
   "outputs": [],
   "source": [
    "sl=pd.get_dummies(attrdata[\"Stay/Left\"])"
   ]
  },
  {
   "cell_type": "code",
   "execution_count": 529,
   "metadata": {},
   "outputs": [],
   "source": [
    "jrl=pd.get_dummies(attrdata[\"Job Role Match\"])"
   ]
  },
  {
   "cell_type": "code",
   "execution_count": 530,
   "metadata": {},
   "outputs": [],
   "source": [
    "tengrp=pd.get_dummies(attrdata[\"Tenure Grp.\"])"
   ]
  },
  {
   "cell_type": "code",
   "execution_count": 531,
   "metadata": {},
   "outputs": [],
   "source": [
    "loc=pd.get_dummies(attrdata[\"Location\"])"
   ]
  },
  {
   "cell_type": "code",
   "execution_count": 532,
   "metadata": {},
   "outputs": [],
   "source": [
    "dataset=pd.concat([attrdata,gen,hr,loc,Ms,pr,sl,emp,jrl,tengrp],axis=1)"
   ]
  },
  {
   "cell_type": "code",
   "execution_count": 533,
   "metadata": {},
   "outputs": [],
   "source": [
    "dataset.drop([\"Marital Status\",\"Promoted/Non Promoted\",\"Stay/Left\",\"Function\",\"Emp. Group\",\"Job Role Match\",\"Location\",\"Hiring Source\",\"Left\",\"No\",\"Non Promoted\",\"> 1 & < =3\"],axis=1,inplace=True)"
   ]
  },
  {
   "cell_type": "code",
   "execution_count": 534,
   "metadata": {},
   "outputs": [
    {
     "data": {
      "text/plain": [
       "Index(['Gender ', 'Tenure', 'Tenure Grp.', 'Experience (YY.MM)', 'Age in YY.',\n",
       "       'Commuting Problems', 'Tools provided for the job', 'Job Security',\n",
       "       'Company Benefits', 'Career Development', 'Operation', 'Sales',\n",
       "       'Support', 'Agency', 'Direct', 'Employee Referral', 'Bangalore',\n",
       "       'Chennai', 'Gurgaon', 'Hyderabad', 'Kolkata', 'Lucknow', 'Madurai',\n",
       "       'Mumbai', 'Nagpur', 'Noida', 'Pune', 'Vijayawada', 'Div.', 'Marr.',\n",
       "       'NTBD', 'Sep.', 'Single', 'Promoted', 'Stay', 'B0', 'B1', 'B2', 'B3',\n",
       "       'B4', 'B5', 'B6', 'B7', 'Yes', '< =1'],\n",
       "      dtype='object')"
      ]
     },
     "execution_count": 534,
     "metadata": {},
     "output_type": "execute_result"
    }
   ],
   "source": [
    "dataset.columns"
   ]
  },
  {
   "cell_type": "code",
   "execution_count": 535,
   "metadata": {},
   "outputs": [
    {
     "data": {
      "text/plain": [
       "Operation            0.020490\n",
       "Sales                0.001653\n",
       "Support             -0.023381\n",
       "Agency              -0.067139\n",
       "Direct              -0.020832\n",
       "Employee Referral    0.114775\n",
       "Bangalore           -0.025569\n",
       "Chennai              0.017651\n",
       "Gurgaon              0.041652\n",
       "Hyderabad            0.000769\n",
       "Kolkata              0.024021\n",
       "Lucknow              0.028754\n",
       "Madurai              0.038136\n",
       "Mumbai               0.012743\n",
       "Nagpur              -0.061607\n",
       "Noida               -0.000480\n",
       "Pune                -0.009330\n",
       "Vijayawada          -0.027755\n",
       "Div.                 0.033989\n",
       "Marr.                0.244743\n",
       "NTBD                -0.015988\n",
       "Sep.                -0.015988\n",
       "Single              -0.244257\n",
       "Promoted            -0.130370\n",
       "Stay                 1.000000\n",
       "B0                  -0.032085\n",
       "B1                  -0.177028\n",
       "B2                   0.133742\n",
       "B3                   0.067170\n",
       "B4                   0.063767\n",
       "B5                   0.048122\n",
       "B6                   0.024021\n",
       "B7                   0.033989\n",
       "Yes                  0.676486\n",
       "< =1                -0.028459\n",
       "Name: Stay, dtype: float64"
      ]
     },
     "execution_count": 535,
     "metadata": {},
     "output_type": "execute_result"
    }
   ],
   "source": [
    "dataset.corr()[\"Stay\"]"
   ]
  },
  {
   "cell_type": "code",
   "execution_count": 536,
   "metadata": {},
   "outputs": [
    {
     "data": {
      "text/plain": [
       "Index(['Tenure', 'Experience (YY.MM)', 'Age in YY.', 'Commuting Problems',\n",
       "       'Tools provided for the job', 'Job Security', 'Company Benefits',\n",
       "       'Career Development', 'Operation', 'Sales', 'Support', 'Agency',\n",
       "       'Direct', 'Employee Referral', 'Bangalore', 'Chennai', 'Gurgaon',\n",
       "       'Hyderabad', 'Kolkata', 'Lucknow', 'Madurai', 'Mumbai', 'Nagpur',\n",
       "       'Noida', 'Pune', 'Vijayawada', 'Div.', 'Marr.', 'NTBD', 'Sep.',\n",
       "       'Single', 'Promoted', 'Stay', 'B0', 'B1', 'B2', 'B3', 'B4', 'B5', 'B6',\n",
       "       'B7', 'Yes', '< =1'],\n",
       "      dtype='object')"
      ]
     },
     "execution_count": 536,
     "metadata": {},
     "output_type": "execute_result"
    }
   ],
   "source": [
    "dataset.drop([\"Gender \",\"Tenure Grp.\"],inplace=True,axis=1)\n",
    "dataset.columns"
   ]
  },
  {
   "cell_type": "code",
   "execution_count": 537,
   "metadata": {},
   "outputs": [],
   "source": [
    "y=dataset[\"Stay\"]"
   ]
  },
  {
   "cell_type": "code",
   "execution_count": 538,
   "metadata": {},
   "outputs": [],
   "source": [
    "X=dataset.drop(\"Stay\",axis=1)"
   ]
  },
  {
   "cell_type": "code",
   "execution_count": 539,
   "metadata": {},
   "outputs": [],
   "source": [
    "X_train,X_test,y_train,y_test=train_test_split(X,y,test_size=0.2,random_state=4)"
   ]
  },
  {
   "cell_type": "code",
   "execution_count": 540,
   "metadata": {},
   "outputs": [],
   "source": [
    "from sklearn.linear_model import LogisticRegression\n",
    "from sklearn.tree import DecisionTreeClassifier\n",
    "from sklearn.ensemble import RandomForestClassifier\n",
    "from sklearn.neighbors import KNeighborsClassifier\n",
    "from sklearn.svm import SVC\n",
    "from sklearn.naive_bayes import GaussianNB "
   ]
  },
  {
   "cell_type": "code",
   "execution_count": 541,
   "metadata": {},
   "outputs": [],
   "source": [
    "lr=LogisticRegression()\n",
    "dt=DecisionTreeClassifier()\n",
    "rm=RandomForestClassifier()\n",
    "supvm=SVC()\n",
    "knn=KNeighborsClassifier(n_neighbors=5)\n",
    "gnb=GaussianNB()"
   ]
  },
  {
   "cell_type": "code",
   "execution_count": 543,
   "metadata": {},
   "outputs": [
    {
     "name": "stderr",
     "output_type": "stream",
     "text": [
      "C:\\Users\\KIIT\\Anaconda3\\lib\\site-packages\\sklearn\\linear_model\\logistic.py:433: FutureWarning: Default solver will be changed to 'lbfgs' in 0.22. Specify a solver to silence this warning.\n",
      "  FutureWarning)\n",
      "C:\\Users\\KIIT\\Anaconda3\\lib\\site-packages\\sklearn\\svm\\base.py:196: FutureWarning: The default value of gamma will change from 'auto' to 'scale' in version 0.22 to account better for unscaled features. Set gamma explicitly to 'auto' or 'scale' to avoid this warning.\n",
      "  \"avoid this warning.\", FutureWarning)\n"
     ]
    },
    {
     "name": "stdout",
     "output_type": "stream",
     "text": [
      "[Logistic Regression] training data accuracy is : 0.900699\n",
      "[Logistic Regression] test data accuracy is : 0.871508\n",
      "[Decision Tree] training data accuracy is : 1.000000\n",
      "[Decision Tree] test data accuracy is : 0.843575\n",
      "[Random Forest] training data accuracy is : 0.990210\n",
      "[Random Forest] test data accuracy is : 0.882682\n",
      "[Support Vector Machine] training data accuracy is : 0.911888\n",
      "[Support Vector Machine] test data accuracy is : 0.860335\n",
      "[K Nearest Neighbours] training data accuracy is : 0.829371\n",
      "[K Nearest Neighbours] test data accuracy is : 0.659218\n",
      "[Naive Bayes] training data accuracy is : 0.352448\n",
      "[Naive Bayes] test data accuracy is : 0.407821\n"
     ]
    }
   ],
   "source": [
    "for a,b in zip([lr,dt,rm,supvm,knn,gnb],[\"Logistic Regression\",\"Decision Tree\",\"Random Forest\",\"Support Vector Machine\",\"K Nearest Neighbours\",\"Naive Bayes\"]):\n",
    "    a.fit(X_train,y_train)\n",
    "    prediction=a.predict(X_train)\n",
    "    y_pred=a.predict(X_test)\n",
    "    score1=accuracy_score(y_train,prediction)\n",
    "    score=accuracy_score(y_test,y_pred)\n",
    "    msg1=\"[%s] training data accuracy is : %f\" % (b,score1)\n",
    "    msg2=\"[%s] test data accuracy is : %f\" % (b,score)\n",
    "    print(msg1)\n",
    "    print(msg2)"
   ]
  },
  {
   "cell_type": "code",
   "execution_count": null,
   "metadata": {},
   "outputs": [],
   "source": []
  },
  {
   "cell_type": "code",
   "execution_count": null,
   "metadata": {},
   "outputs": [],
   "source": []
  },
  {
   "cell_type": "code",
   "execution_count": null,
   "metadata": {},
   "outputs": [],
   "source": []
  },
  {
   "cell_type": "code",
   "execution_count": null,
   "metadata": {},
   "outputs": [],
   "source": []
  },
  {
   "cell_type": "code",
   "execution_count": null,
   "metadata": {},
   "outputs": [],
   "source": []
  },
  {
   "cell_type": "code",
   "execution_count": null,
   "metadata": {},
   "outputs": [],
   "source": []
  },
  {
   "cell_type": "code",
   "execution_count": null,
   "metadata": {},
   "outputs": [],
   "source": []
  },
  {
   "cell_type": "code",
   "execution_count": null,
   "metadata": {},
   "outputs": [],
   "source": []
  },
  {
   "cell_type": "code",
   "execution_count": null,
   "metadata": {},
   "outputs": [],
   "source": []
  }
 ],
 "metadata": {
  "kernelspec": {
   "display_name": "Python 3",
   "language": "python",
   "name": "python3"
  },
  "language_info": {
   "codemirror_mode": {
    "name": "ipython",
    "version": 3
   },
   "file_extension": ".py",
   "mimetype": "text/x-python",
   "name": "python",
   "nbconvert_exporter": "python",
   "pygments_lexer": "ipython3",
   "version": "3.7.3"
  }
 },
 "nbformat": 4,
 "nbformat_minor": 2
}
